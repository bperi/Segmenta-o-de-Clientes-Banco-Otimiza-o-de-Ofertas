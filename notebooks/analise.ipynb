import pandas as pd
import matplotlib.pyplot as plt
import seaborn as sns
from sklearn.cluster import KMeans
from sklearn.preprocessing import StandardScaler

# clientes foi extraído para um DataFrame pandas chamado df
df = pd.read_csv('clientes.csv')  # importação

# Informações gerais
print(df.info())
print(df.describe())

# Visualização: Distribuição de renda
plt.figure(figsize=(8,5))
sns.histplot(df['renda'], bins=10, kde=True)
plt.title('Distribuição da Renda Mensal dos Clientes')
plt.xlabel('Renda (R$)')
plt.show()

# Visualização: Relação Renda x Valor da Parcela
plt.figure(figsize=(8,5))
sns.scatterplot(x='renda', y='valor_parcela', data=df, hue='produtos', palette='viridis', s=100)
plt.title('Renda x Valor Parcela por Número de Produtos')
plt.xlabel('Renda (R$)')
plt.ylabel('Valor da Parcela (R$)')
plt.show()

# Segmentação via KMeans
features = ['parcelas', 'valor_parcela', 'produtos', 'tempo_cliente', 'renda']
X = df[features].fillna(0)

scaler = StandardScaler()
X_scaled = scaler.fit_transform(X)

kmeans = KMeans(n_clusters=3, random_state=42)
df['cluster'] = kmeans.fit_predict(X_scaled)

# Visualizar clusters em gráfico
plt.figure(figsize=(8,5))
sns.scatterplot(x='renda', y='valor_parcela', hue='cluster', data=df, palette='Set1', s=100)
plt.title('Segmentação de Clientes (Clusters)')
plt.xlabel('Renda (R$)')
plt.ylabel('Valor da Parcela (R$)')
plt.show()

# Estatísticas por cluster
print(df.groupby('cluster')[features].mean())
